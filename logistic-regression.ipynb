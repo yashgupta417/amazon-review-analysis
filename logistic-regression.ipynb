{
 "cells": [
  {
   "cell_type": "code",
   "execution_count": 1,
   "metadata": {},
   "outputs": [
    {
     "name": "stdout",
     "output_type": "stream",
     "text": [
      "20000\n"
     ]
    }
   ],
   "source": [
    "import numpy as np\n",
    "import pandas as pd\n",
    "import matplotlib.pyplot as plt\n",
    "import nltk\n",
    "import string\n",
    "from sklearn.feature_extraction.text import TfidfTransformer,TfidfVectorizer,CountVectorizer\n",
    "from nltk.stem.porter import PorterStemmer\n",
    "dataset=pd.read_csv(r'C:\\Users\\HP\\Desktop\\ML\\Reviews.csv')\n",
    "dataset=dataset.drop_duplicates(subset={'UserId','Time'},keep='first',inplace=False)\n",
    "dataset=dataset.sample(20000)\n",
    "dataset.reset_index(inplace = True) \n",
    "print(len(dataset))\n",
    "dataset=dataset.sort_values('Time',ascending=True)"
   ]
  },
  {
   "cell_type": "code",
   "execution_count": 2,
   "metadata": {},
   "outputs": [
    {
     "name": "stderr",
     "output_type": "stream",
     "text": [
      "100%|███████████████████████████████████████████████████████████████████████████| 20000/20000 [00:29<00:00, 670.70it/s]\n"
     ]
    },
    {
     "data": {
      "text/plain": [
       "'first got item time complain lollipop tasti sort sour sour delici wait tri lollipop brand'"
      ]
     },
     "execution_count": 2,
     "metadata": {},
     "output_type": "execute_result"
    }
   ],
   "source": [
    "import re\n",
    "from nltk.corpus import stopwords\n",
    "from nltk.stem import PorterStemmer,SnowballStemmer\n",
    "from nltk.stem.wordnet import WordNetLemmatizer \n",
    "import nltk\n",
    "#nltk.download('wordnet')\n",
    "  \n",
    "#lemmatizer = WordNetLemmatizer()\n",
    "\n",
    "stop=dict.fromkeys(stopwords.words('english'),1)\n",
    "sno=SnowballStemmer('english')\n",
    "\n",
    "def clean_html(sentence):\n",
    "    x=re.compile('<.*?>')\n",
    "    cleantext=re.sub(x,' ',sentence)\n",
    "    return cleantext\n",
    "\n",
    "def clean_punc(sentence):\n",
    "    cleaned=re.sub(r'[?|!|\\'|\"|#|.|,|)|(|\\|/]',r' ',sentence)\n",
    "    return cleaned\n",
    "\n",
    "p_text=[] #processed text\n",
    "from tqdm import tqdm\n",
    "for sent in tqdm(dataset['Text'].values,position=0,leave=True):\n",
    "    sent=clean_html(sent)\n",
    "    sent=clean_punc(sent)\n",
    "    s=[]\n",
    "    for w in sent.split():\n",
    "        if(w.isalpha() and len(w)>2 and w.lower() not in stop):\n",
    "            w=(sno.stem(w.lower()))\n",
    "            #w=lemmatizer.lemmatize(w.lower()) stemming was producing better results\n",
    "            s.append(w)\n",
    "    sent=\" \".join(s)\n",
    "    p_text.append(sent)\n",
    "    \n",
    "dataset['p_text']=p_text\n",
    "\n",
    "dataset['p_text'][377]"
   ]
  },
  {
   "cell_type": "code",
   "execution_count": 4,
   "metadata": {},
   "outputs": [
    {
     "name": "stderr",
     "output_type": "stream",
     "text": [
      "100%|█████████████████████████████████████████████████████████████████████████| 20000/20000 [00:00<00:00, 80359.12it/s]\n"
     ]
    },
    {
     "data": {
      "text/plain": [
       "10502"
      ]
     },
     "execution_count": 4,
     "metadata": {},
     "output_type": "execute_result"
    }
   ],
   "source": [
    "from gensim.models import Word2Vec\n",
    "sentences=[]\n",
    "for sent in tqdm(p_text,position=0,leave=True):\n",
    "    sentences.append(sent.split())\n",
    "\n",
    "model=Word2Vec(sentences,min_count=2,size=200,workers=16)\n",
    "w2v_words=dict(model.wv.vocab)\n",
    "len(w2v_words)"
   ]
  },
  {
   "cell_type": "code",
   "execution_count": 5,
   "metadata": {},
   "outputs": [
    {
     "name": "stderr",
     "output_type": "stream",
     "text": [
      "100%|██████████████████████████████████████████████████████████████████████████| 20000/20000 [00:07<00:00, 2662.89it/s]\n"
     ]
    }
   ],
   "source": [
    "text_vectors=[]\n",
    "            \n",
    "for sent in tqdm(sentences,position=0,leave=True):\n",
    "    text_vec=np.zeros(200)\n",
    "    word_cnt=0\n",
    "    for word in sent:\n",
    "        if word in w2v_words:\n",
    "            text_vec+=model.wv[word]\n",
    "            word_cnt+=1\n",
    "            \n",
    "    if word_cnt!=0:\n",
    "        text_vec/=word_cnt\n",
    "    text_vectors.append(text_vec)"
   ]
  },
  {
   "cell_type": "code",
   "execution_count": 6,
   "metadata": {},
   "outputs": [
    {
     "name": "stdout",
     "output_type": "stream",
     "text": [
      "20000\n",
      "15484\n"
     ]
    }
   ],
   "source": [
    "X=text_vectors\n",
    "Y=[]\n",
    "p_reviews=0\n",
    "n_reviews=0\n",
    "for score in dataset['Score'].values:\n",
    "    if score >=4:\n",
    "        Y.append(1)\n",
    "        p_reviews+=1\n",
    "    else:\n",
    "        Y.append(0)\n",
    "        n_reviews+=1\n",
    "        \n",
    "dataset['class']=Y\n",
    "print(len(Y))\n",
    "print(p_reviews)"
   ]
  },
  {
   "cell_type": "code",
   "execution_count": 52,
   "metadata": {},
   "outputs": [
    {
     "name": "stdout",
     "output_type": "stream",
     "text": [
      "8.196617987518299e-19\n",
      "1.0000000000000002\n"
     ]
    }
   ],
   "source": [
    "from sklearn.model_selection import train_test_split\n",
    "\n",
    "tuned_params=[{'C':[10**4,10**2,10**0,10**-2,10**-4]}]\n",
    "x_train,x_test,y_train,y_test=train_test_split(X,Y,test_size=0.3,random_state=30)\n",
    "\n",
    "#standardization\n",
    "from sklearn.preprocessing import StandardScaler\n",
    "scaler=StandardScaler()\n",
    "x_train= scaler.fit_transform(x_train)\n",
    "print(x_train.mean())\n",
    "print(x_train.std())"
   ]
  },
  {
   "cell_type": "code",
   "execution_count": 53,
   "metadata": {},
   "outputs": [
    {
     "name": "stdout",
     "output_type": "stream",
     "text": [
      "LogisticRegression(C=0.0001, class_weight={1: 1, 0: 2}, dual=False,\n",
      "          fit_intercept=True, intercept_scaling=1, max_iter=100,\n",
      "          multi_class='warn', n_jobs=-1, penalty='l2', random_state=None,\n",
      "          solver='lbfgs', tol=0.0001, verbose=0, warm_start=False)\n",
      "0.8105\n"
     ]
    }
   ],
   "source": [
    "from sklearn.model_selection import GridSearchCV\n",
    "from sklearn.linear_model import LogisticRegression\n",
    "\n",
    "model=GridSearchCV(LogisticRegression(class_weight={1:1,0:2},solver='lbfgs',n_jobs=-1),tuned_params,scoring='accuracy',cv=5,n_jobs=-1)\n",
    "model.fit(x_train,y_train)\n",
    "\n",
    "print(model.best_estimator_)\n",
    "print(model.score(x_test,y_test))\n"
   ]
  },
  {
   "cell_type": "code",
   "execution_count": 59,
   "metadata": {},
   "outputs": [
    {
     "name": "stdout",
     "output_type": "stream",
     "text": [
      "200\n"
     ]
    }
   ],
   "source": [
    "lrmodel=LogisticRegression(class_weight={1:1,0:2},solver='lbfgs',penalty='l2',C=.1,n_jobs=-1,max_iter=1000)\n",
    "lrmodel.fit(x_train,y_train)\n",
    "\n",
    "w=lrmodel.coef_\n",
    "print(np.count_nonzero(w))"
   ]
  },
  {
   "cell_type": "code",
   "execution_count": 63,
   "metadata": {},
   "outputs": [
    {
     "name": "stdout",
     "output_type": "stream",
     "text": [
      "Accuracy:  81.3\n",
      "Precision:  0.9013597603134362\n",
      "Recall:  0.8492942453854506\n",
      "F1 score:  0.8745527728085867\n",
      "Confusion Matrix:  [[ 967  428]\n",
      " [ 694 3911]]\n",
      "True negative:  967\n",
      "False negative:  694\n",
      "True positive:  3911\n",
      "False negative:  428\n"
     ]
    }
   ],
   "source": [
    "from sklearn.metrics import precision_score,recall_score,f1_score,confusion_matrix\n",
    "\n",
    "x_test=scaler.transform(x_test)\n",
    "pred=lrmodel.predict(x_test)\n",
    "test_a=accuracy_score(y_test,pred)*100\n",
    "test_p=precision_score(y_test,pred)\n",
    "test_r=recall_score(y_test,pred)\n",
    "test_f=f1_score(y_test,pred)\n",
    "test_c=confusion_matrix(y_test,pred)\n",
    "tn, fp, fn, tp=test_c.ravel()\n",
    "print(\"Accuracy: \",test_a)\n",
    "print(\"Precision: \",test_p)\n",
    "print(\"Recall: \",test_r)\n",
    "print(\"F1 score: \",test_f)\n",
    "print(\"Confusion Matrix: \",test_c)\n",
    "\n",
    "print(\"True negative: \",tn)\n",
    "print(\"False negative: \",fn)\n",
    "print(\"True positive: \",tp)\n",
    "print(\"False negative: \",fp)"
   ]
  },
  {
   "cell_type": "code",
   "execution_count": null,
   "metadata": {},
   "outputs": [],
   "source": []
  }
 ],
 "metadata": {
  "kernelspec": {
   "display_name": "Python 3",
   "language": "python",
   "name": "python3"
  },
  "language_info": {
   "codemirror_mode": {
    "name": "ipython",
    "version": 3
   },
   "file_extension": ".py",
   "mimetype": "text/x-python",
   "name": "python",
   "nbconvert_exporter": "python",
   "pygments_lexer": "ipython3",
   "version": "3.7.3"
  }
 },
 "nbformat": 4,
 "nbformat_minor": 2
}
