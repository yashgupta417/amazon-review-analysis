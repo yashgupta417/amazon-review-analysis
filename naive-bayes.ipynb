{
 "cells": [
  {
   "cell_type": "code",
   "execution_count": 1,
   "metadata": {},
   "outputs": [
    {
     "name": "stdout",
     "output_type": "stream",
     "text": [
      "30000\n"
     ]
    }
   ],
   "source": [
    "import numpy as np\n",
    "import pandas as pd\n",
    "import matplotlib.pyplot as plt\n",
    "import nltk\n",
    "import string\n",
    "from sklearn.feature_extraction.text import TfidfTransformer,TfidfVectorizer,CountVectorizer\n",
    "from nltk.stem.porter import PorterStemmer\n",
    "dataset=pd.read_csv(r'C:\\Users\\HP\\Desktop\\ML\\Reviews.csv')\n",
    "dataset=dataset.drop_duplicates(subset={'UserId','Time'},keep='first',inplace=False)\n",
    "dataset=dataset.sample(30000)\n",
    "dataset.reset_index(inplace = True) \n",
    "dataset=dataset.sort_values('Time',ascending=True)\n",
    "print(len(dataset))"
   ]
  },
  {
   "cell_type": "code",
   "execution_count": 2,
   "metadata": {},
   "outputs": [
    {
     "name": "stderr",
     "output_type": "stream",
     "text": [
      "100%|███████████████████████████████████████████████████████████████████████████| 30000/30000 [00:44<00:00, 676.87it/s]\n"
     ]
    }
   ],
   "source": [
    "import re\n",
    "from nltk.corpus import stopwords\n",
    "from nltk.stem import PorterStemmer,SnowballStemmer\n",
    "from nltk.stem.wordnet import WordNetLemmatizer \n",
    "import nltk\n",
    "\n",
    "stop=dict.fromkeys(stopwords.words('english'))\n",
    "sno=SnowballStemmer('english')\n",
    "\n",
    "def clean_html(sentence):\n",
    "    x=re.compile('<.*?>')\n",
    "    cleantext=re.sub(x,' ',sentence)\n",
    "    return cleantext\n",
    "\n",
    "def clean_punc(sentence):\n",
    "    cleaned=re.sub(r'[?|!|\\'|\"|#|.|,|)|(|\\|/]',r' ',sentence)\n",
    "    return cleaned\n",
    "\n",
    "p_text=[] #processed text\n",
    "from tqdm import tqdm\n",
    "for sent in tqdm(dataset['Text'].values,position=0,leave=True):\n",
    "    sent=clean_html(sent)\n",
    "    sent=clean_punc(sent)\n",
    "    s=[]\n",
    "    for w in sent.split():\n",
    "        if(w.isalpha() and len(w)>2 and w.lower() not in stop):\n",
    "            w=(sno.stem(w.lower()))\n",
    "            s.append(w)\n",
    "    sent=\" \".join(s)\n",
    "    p_text.append(sent)"
   ]
  },
  {
   "cell_type": "code",
   "execution_count": 3,
   "metadata": {},
   "outputs": [
    {
     "name": "stdout",
     "output_type": "stream",
     "text": [
      "30000\n",
      "23364\n"
     ]
    }
   ],
   "source": [
    "Y=[]\n",
    "p_reviews=0\n",
    "n_reviews=0\n",
    "for score in dataset['Score'].values:\n",
    "    if score >=4:\n",
    "        Y.append(1)\n",
    "        p_reviews+=1\n",
    "    else:\n",
    "        Y.append(0)\n",
    "        n_reviews+=1\n",
    "        \n",
    "dataset['class']=Y\n",
    "print(len(Y))\n",
    "print(p_reviews)"
   ]
  },
  {
   "cell_type": "code",
   "execution_count": 51,
   "metadata": {},
   "outputs": [],
   "source": [
    "from sklearn.feature_extraction.text import CountVectorizer\n",
    "vectorizer = CountVectorizer(ngram_range=(1,2))\n",
    "#X = vectorizer.fit_transform(p_text)"
   ]
  },
  {
   "cell_type": "code",
   "execution_count": 52,
   "metadata": {},
   "outputs": [
    {
     "name": "stderr",
     "output_type": "stream",
     "text": [
      "100%|██████████████████████████████████████████████████████████████████████████████████| 40/40 [00:48<00:00,  1.13s/it]\n"
     ]
    }
   ],
   "source": [
    "from sklearn.metrics import accuracy_score\n",
    "from sklearn.model_selection import cross_val_score,train_test_split\n",
    "from sklearn.naive_bayes import BernoulliNB\n",
    "\n",
    "x_train,x_test,y_train,y_test=train_test_split(p_text,Y,test_size=0.3,random_state=30)\n",
    "x_train=vectorizer.fit_transform(x_train)\n",
    "acc=[]\n",
    "alpha=[]\n",
    "for a in tqdm(range(0,40),position=0,leave=True):\n",
    "    model=BernoulliNB(alpha=a)\n",
    "    scores=cross_val_score(model,x_train,y_train,cv=10,scoring='accuracy',n_jobs=-1)\n",
    "    acc.append(scores.mean())\n",
    "    alpha.append(a)\n",
    "        "
   ]
  },
  {
   "cell_type": "code",
   "execution_count": 53,
   "metadata": {},
   "outputs": [
    {
     "data": {
      "text/plain": [
       "[<matplotlib.lines.Line2D at 0x12032634c88>]"
      ]
     },
     "execution_count": 53,
     "metadata": {},
     "output_type": "execute_result"
    },
    {
     "data": {
      "image/png": "[encoded data removed]",
      "text/plain": [
       "<Figure size 432x288 with 1 Axes>"
      ]
     },
     "metadata": {
      "needs_background": "light"
     },
     "output_type": "display_data"
    }
   ],
   "source": [
    "plt.plot(alpha,acc)"
   ]
  },
  {
   "cell_type": "code",
   "execution_count": 54,
   "metadata": {},
   "outputs": [
    {
     "data": {
      "text/plain": [
       "BernoulliNB(alpha=1e-10, binarize=0.0, class_prior=None, fit_prior=True)"
      ]
     },
     "execution_count": 54,
     "metadata": {},
     "output_type": "execute_result"
    }
   ],
   "source": [
    "clf=BernoulliNB(alpha=0.0000000001,binarize=0.0)\n",
    "clf.fit(x_train,y_train)"
   ]
  },
  {
   "cell_type": "code",
   "execution_count": 55,
   "metadata": {},
   "outputs": [
    {
     "name": "stdout",
     "output_type": "stream",
     "text": [
      "Accuracy:  80.31111111111112\n",
      "Precision:  0.8074454428754814\n",
      "Recall:  0.9826729157790086\n",
      "F1 score:  0.8864830237027547\n",
      "Confusion Matrix:  [[ 309 1650]\n",
      " [ 122 6919]]\n"
     ]
    }
   ],
   "source": [
    "from sklearn.metrics import precision_score,recall_score,f1_score,confusion_matrix\n",
    "x_test=vectorizer.transform(x_test)\n",
    "pred=clf.predict(x_test)\n",
    "test_a=accuracy_score(y_test,pred)*100\n",
    "test_p=precision_score(y_test,pred)\n",
    "test_r=recall_score(y_test,pred)\n",
    "test_f=f1_score(y_test,pred)\n",
    "test_c=confusion_matrix(y_test,pred)\n",
    "print(\"Accuracy: \",test_a)\n",
    "print(\"Precision: \",test_p)\n",
    "print(\"Recall: \",test_r)\n",
    "print(\"F1 score: \",test_f)\n",
    "print(\"Confusion Matrix: \",test_c)"
   ]
  },
  {
   "cell_type": "code",
   "execution_count": 48,
   "metadata": {},
   "outputs": [
    {
     "name": "stdout",
     "output_type": "stream",
     "text": [
      "Enter review: good\n",
      "Positive review\n"
     ]
    }
   ],
   "source": [
    "s=input(\"Enter review: \")\n",
    "s=clean_html(s)\n",
    "s=clean_punc(s)\n",
    "bow=[]\n",
    "for w in s.split():\n",
    "    if(w.isalpha() and len(w)>2 and w.lower() not in stop):\n",
    "        w=(sno.stem(w.lower()))\n",
    "        bow.append(w)\n",
    "s=\" \".join(bow)\n",
    "\n",
    "vec=vectorizer.transform([s])\n",
    "result=clf.predict(vec.toarray())[0]\n",
    "if result==1:\n",
    "    print(\"Positive review\")\n",
    "else:\n",
    "    print(\"Negative review\")\n",
    "\n"
   ]
  },
  {
   "cell_type": "code",
   "execution_count": null,
   "metadata": {},
   "outputs": [],
   "source": []
  },
  {
   "cell_type": "code",
   "execution_count": null,
   "metadata": {},
   "outputs": [],
   "source": []
  }
 ],
 "metadata": {
  "kernelspec": {
   "display_name": "Python 3",
   "language": "python",
   "name": "python3"
  },
  "language_info": {
   "codemirror_mode": {
    "name": "ipython",
    "version": 3
   },
   "file_extension": ".py",
   "mimetype": "text/x-python",
   "name": "python",
   "nbconvert_exporter": "python",
   "pygments_lexer": "ipython3",
   "version": "3.7.3"
  }
 },
 "nbformat": 4,
 "nbformat_minor": 2
}
