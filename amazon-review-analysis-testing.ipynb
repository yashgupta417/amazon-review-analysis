{
 "cells": [
  {
   "cell_type": "code",
   "execution_count": 6,
   "metadata": {},
   "outputs": [
    {
     "name": "stdout",
     "output_type": "stream",
     "text": [
      "Enter a Product Reviewthis is a good product\n",
      "Positive Review with 0.96 probabilty\n"
     ]
    }
   ],
   "source": [
    "from sklearn.externals import joblib \n",
    "import re\n",
    "from nltk.stem import PorterStemmer,SnowballStemmer\n",
    "from nltk.corpus import stopwords\n",
    "  \n",
    "# Load the model from the file \n",
    "knn= joblib.load('amazon-review-analysis-knn.pkl')\n",
    "model = joblib.load('amazon-review-analysis-w2v.pkl') \n",
    "w2v_words=dict(model.wv.vocab)\n",
    "  \n",
    "# Use the loaded model to make predictions \n",
    "def clean_html(sentence):\n",
    "    x=re.compile('<.*?>')\n",
    "    cleantext=re.sub(x,' ',sentence)\n",
    "    return cleantext\n",
    "\n",
    "def clean_punc(sentence):\n",
    "    cleaned=re.sub(r'[?|!|\\'|\"|#|.|,|)|(|\\|/]',r' ',sentence)\n",
    "    return cleaned\n",
    "\n",
    "\n",
    "sno=SnowballStemmer('english')\n",
    "stop=set(stopwords.words('english'))\n",
    "\n",
    "def sent_to_vec(r):\n",
    "    r=clean_html(r)\n",
    "    r=clean_punc(r)\n",
    "    test_review=[]\n",
    "    for w in r.split():\n",
    "        if(w.isalpha() and len(w)>2 and w.lower() not in stop):\n",
    "            w=(sno.stem(w.lower()))\n",
    "            test_review.append(w)\n",
    "\n",
    "    import numpy as np\n",
    "    vec=np.zeros(100)\n",
    "    cnt_words=0\n",
    "\n",
    "    for word in test_review:\n",
    "        if word in w2v_words:\n",
    "            vec+=model.wv[word]\n",
    "            cnt_words+=1\n",
    "\n",
    "    if cnt_words!=0:\n",
    "        vec/=cnt_words\n",
    "    \n",
    "    return vec\n",
    "    \n",
    "r=input(\"Enter a Product Review\")\n",
    "vec=sent_to_vec(r)\n",
    "        \n",
    "probs=knn.predict_proba([vec])[0]\n",
    "ans=\"\"\n",
    "if knn.predict([vec])==1:\n",
    "    ans+=\"Positive Review with \"+str(probs[1])+\" probabilty\"\n",
    "else:\n",
    "    ans+=\"Negative Review with \"+str(probs[0])+\" probability\"\n",
    "\n",
    "print(ans)\n",
    "    "
   ]
  },
  {
   "cell_type": "code",
   "execution_count": null,
   "metadata": {},
   "outputs": [],
   "source": []
  }
 ],
 "metadata": {
  "kernelspec": {
   "display_name": "Python 3",
   "language": "python",
   "name": "python3"
  },
  "language_info": {
   "codemirror_mode": {
    "name": "ipython",
    "version": 3
   },
   "file_extension": ".py",
   "mimetype": "text/x-python",
   "name": "python",
   "nbconvert_exporter": "python",
   "pygments_lexer": "ipython3",
   "version": "3.7.3"
  }
 },
 "nbformat": 4,
 "nbformat_minor": 2
}
